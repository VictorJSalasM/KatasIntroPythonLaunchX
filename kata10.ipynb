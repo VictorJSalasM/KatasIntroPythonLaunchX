{
 "cells": [
  {
   "cell_type": "markdown",
   "metadata": {},
   "source": [
    "# Modulo 10\n",
    "Por Victor Jair Salas"
   ]
  },
  {
   "cell_type": "code",
   "execution_count": 16,
   "metadata": {},
   "outputs": [
    {
     "name": "stdout",
     "output_type": "stream",
     "text": [
      "\n",
      "No se pudo hallar el archivo [Errno 2] No such file or directory: 'D:\\\\Users\\\\Victor\\\\Escritorio\\\\Archivos Compartidos\\\\Cursos WIP\\\\LaunchX\\\\Jupyter Python\\\\Modulo10\\\\config.txt\\\\'\n",
      "Found config.txt but couldn't read it\n"
     ]
    }
   ],
   "source": [
    "#Controlando las excepciones\n",
    "def main():\n",
    "    try:   \n",
    "        open(\"/path/to/mars.jpg\")\n",
    "    except FileNotFoundError:\n",
    "        print()\n",
    "    \n",
    "if __name__ == '__main__':\n",
    "    main()\n",
    "    \n",
    "def main():\n",
    "    try:\n",
    "        configuration = open(\"D:\\\\Users\\\\Victor\\\\Escritorio\\\\Archivos Compartidos\\\\Cursos WIP\\\\LaunchX\\\\Jupyter Python\\\\Modulo10\\\\config.txt\\\\\")\n",
    "    except FileNotFoundError as err:\n",
    "        print(\"No se pudo hallar el archivo\", err)\n",
    "    except IsADirectoryError:\n",
    "        print(\"config.txt existe pero es un directorio\")\n",
    "\n",
    "if __name__ == '__main__':\n",
    "    main()\n",
    "\n",
    "try:\n",
    "    open(\"config.txt\")\n",
    "except OSError as err:\n",
    "    if err.errno == 2:\n",
    "        print(\"Couldn't find the config.txt file!\")\n",
    "    if err.errno == 13:\n",
    "        print(\"Found config.txt but couldn't read it\")\n"
   ]
  },
  {
   "cell_type": "code",
   "execution_count": 15,
   "metadata": {},
   "outputs": [
    {
     "ename": "RuntimeError",
     "evalue": "No hay suficiente agua para los 5 astronautas despues de 2 dias!",
     "output_type": "error",
     "traceback": [
      "\u001b[1;31m---------------------------------------------------------------------------\u001b[0m",
      "\u001b[1;31mRuntimeError\u001b[0m                              Traceback (most recent call last)",
      "\u001b[1;32md:\\Users\\Victor\\Escritorio\\Archivos Compartidos\\Cursos WIP\\LaunchX\\Jupyter Python\\Modulo10\\p10.ipynb Cell 3'\u001b[0m in \u001b[0;36m<module>\u001b[1;34m\u001b[0m\n\u001b[0;32m      <a href='vscode-notebook-cell:/d%3A/Users/Victor/Escritorio/Archivos%20Compartidos/Cursos%20WIP/LaunchX/Jupyter%20Python/Modulo10/p10.ipynb#ch0000002?line=6'>7</a>\u001b[0m         \u001b[39mraise\u001b[39;00m \u001b[39mRuntimeError\u001b[39;00m(\u001b[39mf\u001b[39m\u001b[39m\"\u001b[39m\u001b[39mNo hay suficiente agua para los \u001b[39m\u001b[39m{\u001b[39;00mastronauts\u001b[39m}\u001b[39;00m\u001b[39m astronautas despues de \u001b[39m\u001b[39m{\u001b[39;00mdays_left\u001b[39m}\u001b[39;00m\u001b[39m dias!\u001b[39m\u001b[39m\"\u001b[39m)\n\u001b[0;32m      <a href='vscode-notebook-cell:/d%3A/Users/Victor/Escritorio/Archivos%20Compartidos/Cursos%20WIP/LaunchX/Jupyter%20Python/Modulo10/p10.ipynb#ch0000002?line=8'>9</a>\u001b[0m     \u001b[39mreturn\u001b[39;00m \u001b[39mf\u001b[39m\u001b[39m\"\u001b[39m\u001b[39mTotal water left \u001b[39m\u001b[39m{\u001b[39;00mdays_left\u001b[39m}\u001b[39;00m\u001b[39m days is: \u001b[39m\u001b[39m{\u001b[39;00mtotal_water_left\u001b[39m}\u001b[39;00m\u001b[39m liters\u001b[39m\u001b[39m\"\u001b[39m\n\u001b[1;32m---> <a href='vscode-notebook-cell:/d%3A/Users/Victor/Escritorio/Archivos%20Compartidos/Cursos%20WIP/LaunchX/Jupyter%20Python/Modulo10/p10.ipynb#ch0000002?line=9'>10</a>\u001b[0m water_left(\u001b[39m5\u001b[39;49m, \u001b[39m100\u001b[39;49m, \u001b[39m2\u001b[39;49m)\n\u001b[0;32m     <a href='vscode-notebook-cell:/d%3A/Users/Victor/Escritorio/Archivos%20Compartidos/Cursos%20WIP/LaunchX/Jupyter%20Python/Modulo10/p10.ipynb#ch0000002?line=11'>12</a>\u001b[0m \u001b[39mtry\u001b[39;00m:\n\u001b[0;32m     <a href='vscode-notebook-cell:/d%3A/Users/Victor/Escritorio/Archivos%20Compartidos/Cursos%20WIP/LaunchX/Jupyter%20Python/Modulo10/p10.ipynb#ch0000002?line=12'>13</a>\u001b[0m     water_left(\u001b[39m5\u001b[39m, \u001b[39m100\u001b[39m, \u001b[39m2\u001b[39m)\n",
      "\u001b[1;32md:\\Users\\Victor\\Escritorio\\Archivos Compartidos\\Cursos WIP\\LaunchX\\Jupyter Python\\Modulo10\\p10.ipynb Cell 3'\u001b[0m in \u001b[0;36mwater_left\u001b[1;34m(astronauts, water_left, days_left)\u001b[0m\n\u001b[0;32m      <a href='vscode-notebook-cell:/d%3A/Users/Victor/Escritorio/Archivos%20Compartidos/Cursos%20WIP/LaunchX/Jupyter%20Python/Modulo10/p10.ipynb#ch0000002?line=4'>5</a>\u001b[0m total_water_left \u001b[39m=\u001b[39m water_left \u001b[39m-\u001b[39m total_usage\n\u001b[0;32m      <a href='vscode-notebook-cell:/d%3A/Users/Victor/Escritorio/Archivos%20Compartidos/Cursos%20WIP/LaunchX/Jupyter%20Python/Modulo10/p10.ipynb#ch0000002?line=5'>6</a>\u001b[0m \u001b[39mif\u001b[39;00m total_water_left \u001b[39m<\u001b[39m \u001b[39m0\u001b[39m:\n\u001b[1;32m----> <a href='vscode-notebook-cell:/d%3A/Users/Victor/Escritorio/Archivos%20Compartidos/Cursos%20WIP/LaunchX/Jupyter%20Python/Modulo10/p10.ipynb#ch0000002?line=6'>7</a>\u001b[0m     \u001b[39mraise\u001b[39;00m \u001b[39mRuntimeError\u001b[39;00m(\u001b[39mf\u001b[39m\u001b[39m\"\u001b[39m\u001b[39mNo hay suficiente agua para los \u001b[39m\u001b[39m{\u001b[39;00mastronauts\u001b[39m}\u001b[39;00m\u001b[39m astronautas despues de \u001b[39m\u001b[39m{\u001b[39;00mdays_left\u001b[39m}\u001b[39;00m\u001b[39m dias!\u001b[39m\u001b[39m\"\u001b[39m)\n\u001b[0;32m      <a href='vscode-notebook-cell:/d%3A/Users/Victor/Escritorio/Archivos%20Compartidos/Cursos%20WIP/LaunchX/Jupyter%20Python/Modulo10/p10.ipynb#ch0000002?line=8'>9</a>\u001b[0m \u001b[39mreturn\u001b[39;00m \u001b[39mf\u001b[39m\u001b[39m\"\u001b[39m\u001b[39mTotal water left \u001b[39m\u001b[39m{\u001b[39;00mdays_left\u001b[39m}\u001b[39;00m\u001b[39m days is: \u001b[39m\u001b[39m{\u001b[39;00mtotal_water_left\u001b[39m}\u001b[39;00m\u001b[39m liters\u001b[39m\u001b[39m\"\u001b[39m\n",
      "\u001b[1;31mRuntimeError\u001b[0m: No hay suficiente agua para los 5 astronautas despues de 2 dias!"
     ]
    }
   ],
   "source": [
    "#Generación de excepciones\n",
    "def water_left(astronauts, water_left, days_left):\n",
    "    daily_usage = astronauts * 11\n",
    "    total_usage = daily_usage * days_left\n",
    "    total_water_left = water_left - total_usage\n",
    "    if total_water_left < 0:\n",
    "        raise RuntimeError(f\"No hay suficiente agua para los {astronauts} astronautas despues de {days_left} dias!\")\n",
    "        \n",
    "    return f\"Total water left {days_left} days is: {total_water_left} liters\"\n",
    "water_left(5, 100, 2)\n",
    "\n",
    "try:\n",
    "    water_left(5, 100, 2)\n",
    "except RuntimeError as err:\n",
    "    alert_navegation_system(err)"
   ]
  },
  {
   "cell_type": "code",
   "execution_count": 13,
   "metadata": {},
   "outputs": [
    {
     "ename": "TypeError",
     "evalue": "Todos los argumentos deben ser de tipo int, pero se recibió 'none'",
     "output_type": "error",
     "traceback": [
      "\u001b[1;31m---------------------------------------------------------------------------\u001b[0m",
      "\u001b[1;31mTypeError\u001b[0m                                 Traceback (most recent call last)",
      "\u001b[1;32md:\\Users\\Victor\\Escritorio\\Archivos Compartidos\\Cursos WIP\\LaunchX\\Jupyter Python\\Modulo10\\p10.ipynb Cell 4'\u001b[0m in \u001b[0;36mwater_left\u001b[1;34m(astronauts, water_left, days_left)\u001b[0m\n\u001b[0;32m      <a href='vscode-notebook-cell:/d%3A/Users/Victor/Escritorio/Archivos%20Compartidos/Cursos%20WIP/LaunchX/Jupyter%20Python/Modulo10/p10.ipynb#ch0000003?line=2'>3</a>\u001b[0m \u001b[39mtry\u001b[39;00m:\n\u001b[1;32m----> <a href='vscode-notebook-cell:/d%3A/Users/Victor/Escritorio/Archivos%20Compartidos/Cursos%20WIP/LaunchX/Jupyter%20Python/Modulo10/p10.ipynb#ch0000003?line=3'>4</a>\u001b[0m     argument \u001b[39m/\u001b[39;49m\u001b[39m10\u001b[39;49m\n\u001b[0;32m      <a href='vscode-notebook-cell:/d%3A/Users/Victor/Escritorio/Archivos%20Compartidos/Cursos%20WIP/LaunchX/Jupyter%20Python/Modulo10/p10.ipynb#ch0000003?line=4'>5</a>\u001b[0m \u001b[39mexcept\u001b[39;00m \u001b[39mTypeError\u001b[39;00m:\n",
      "\u001b[1;31mTypeError\u001b[0m: unsupported operand type(s) for /: 'str' and 'int'",
      "\nDuring handling of the above exception, another exception occurred:\n",
      "\u001b[1;31mTypeError\u001b[0m                                 Traceback (most recent call last)",
      "\u001b[1;32md:\\Users\\Victor\\Escritorio\\Archivos Compartidos\\Cursos WIP\\LaunchX\\Jupyter Python\\Modulo10\\p10.ipynb Cell 4'\u001b[0m in \u001b[0;36m<module>\u001b[1;34m\u001b[0m\n\u001b[0;32m     <a href='vscode-notebook-cell:/d%3A/Users/Victor/Escritorio/Archivos%20Compartidos/Cursos%20WIP/LaunchX/Jupyter%20Python/Modulo10/p10.ipynb#ch0000003?line=11'>12</a>\u001b[0m         \u001b[39mprint\u001b[39m()\n\u001b[0;32m     <a href='vscode-notebook-cell:/d%3A/Users/Victor/Escritorio/Archivos%20Compartidos/Cursos%20WIP/LaunchX/Jupyter%20Python/Modulo10/p10.ipynb#ch0000003?line=12'>13</a>\u001b[0m     \u001b[39mreturn\u001b[39;00m \u001b[39mf\u001b[39m\u001b[39m\"\u001b[39m\u001b[39mTotal water left \u001b[39m\u001b[39m{\u001b[39;00mdays_left\u001b[39m}\u001b[39;00m\u001b[39m days is: \u001b[39m\u001b[39m{\u001b[39;00mtotal_water_left\u001b[39m}\u001b[39;00m\u001b[39m liters\u001b[39m\u001b[39m\"\u001b[39m\n\u001b[1;32m---> <a href='vscode-notebook-cell:/d%3A/Users/Victor/Escritorio/Archivos%20Compartidos/Cursos%20WIP/LaunchX/Jupyter%20Python/Modulo10/p10.ipynb#ch0000003?line=13'>14</a>\u001b[0m water_left(\u001b[39m5\u001b[39;49m, \u001b[39m100\u001b[39;49m, \u001b[39m\"\u001b[39;49m\u001b[39mnone\u001b[39;49m\u001b[39m\"\u001b[39;49m)\n",
      "\u001b[1;32md:\\Users\\Victor\\Escritorio\\Archivos Compartidos\\Cursos WIP\\LaunchX\\Jupyter Python\\Modulo10\\p10.ipynb Cell 4'\u001b[0m in \u001b[0;36mwater_left\u001b[1;34m(astronauts, water_left, days_left)\u001b[0m\n\u001b[0;32m      <a href='vscode-notebook-cell:/d%3A/Users/Victor/Escritorio/Archivos%20Compartidos/Cursos%20WIP/LaunchX/Jupyter%20Python/Modulo10/p10.ipynb#ch0000003?line=3'>4</a>\u001b[0m         argument \u001b[39m/\u001b[39m\u001b[39m10\u001b[39m\n\u001b[0;32m      <a href='vscode-notebook-cell:/d%3A/Users/Victor/Escritorio/Archivos%20Compartidos/Cursos%20WIP/LaunchX/Jupyter%20Python/Modulo10/p10.ipynb#ch0000003?line=4'>5</a>\u001b[0m     \u001b[39mexcept\u001b[39;00m \u001b[39mTypeError\u001b[39;00m:\n\u001b[1;32m----> <a href='vscode-notebook-cell:/d%3A/Users/Victor/Escritorio/Archivos%20Compartidos/Cursos%20WIP/LaunchX/Jupyter%20Python/Modulo10/p10.ipynb#ch0000003?line=5'>6</a>\u001b[0m         \u001b[39mraise\u001b[39;00m \u001b[39mTypeError\u001b[39;00m(\u001b[39mf\u001b[39m\u001b[39m\"\u001b[39m\u001b[39mTodos los argumentos deben ser de tipo int, pero se recibió \u001b[39m\u001b[39m'\u001b[39m\u001b[39m{\u001b[39;00margument\u001b[39m}\u001b[39;00m\u001b[39m'\u001b[39m\u001b[39m\"\u001b[39m)\n\u001b[0;32m      <a href='vscode-notebook-cell:/d%3A/Users/Victor/Escritorio/Archivos%20Compartidos/Cursos%20WIP/LaunchX/Jupyter%20Python/Modulo10/p10.ipynb#ch0000003?line=6'>7</a>\u001b[0m daily_usage \u001b[39m=\u001b[39m astronauts \u001b[39m*\u001b[39m \u001b[39m11\u001b[39m\n\u001b[0;32m      <a href='vscode-notebook-cell:/d%3A/Users/Victor/Escritorio/Archivos%20Compartidos/Cursos%20WIP/LaunchX/Jupyter%20Python/Modulo10/p10.ipynb#ch0000003?line=7'>8</a>\u001b[0m total_usage \u001b[39m=\u001b[39m daily_usage \u001b[39m*\u001b[39m days_left\n",
      "\u001b[1;31mTypeError\u001b[0m: Todos los argumentos deben ser de tipo int, pero se recibió 'none'"
     ]
    }
   ],
   "source": [
    "def water_left(astronauts, water_left, days_left):\n",
    "    for argument in [astronauts, water_left, days_left]:\n",
    "        try:\n",
    "            argument /10\n",
    "        except TypeError:\n",
    "            raise TypeError(f\"Todos los argumentos deben ser de tipo int, pero se recibió '{argument}'\")\n",
    "    daily_usage = astronauts * 11\n",
    "    total_usage = daily_usage * days_left\n",
    "    total_water_left = water_left - total_usage\n",
    "    if total_water_left < 0:\n",
    "        #raise RuntimeError(f\"No hay suficiente agua para los {astronauts} astronautas despues de {days_left} dias!\")\n",
    "        print()\n",
    "    return f\"Total water left {days_left} days is: {total_water_left} liters\"\n",
    "water_left(5, 100, \"none\")"
   ]
  }
 ],
 "metadata": {
  "interpreter": {
   "hash": "eeecbdcb36233e2fcbab9f6769ae217514c6a1666bb0c786a66fb80ba08763d1"
  },
  "kernelspec": {
   "display_name": "Python 3.10.0 64-bit",
   "language": "python",
   "name": "python3"
  },
  "language_info": {
   "codemirror_mode": {
    "name": "ipython",
    "version": 3
   },
   "file_extension": ".py",
   "mimetype": "text/x-python",
   "name": "python",
   "nbconvert_exporter": "python",
   "pygments_lexer": "ipython3",
   "version": "3.10.0"
  },
  "orig_nbformat": 4
 },
 "nbformat": 4,
 "nbformat_minor": 2
}
